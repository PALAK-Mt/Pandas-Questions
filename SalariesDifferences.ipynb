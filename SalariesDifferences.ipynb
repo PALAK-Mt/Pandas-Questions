Question: Calculates the difference between the highest salaries in the marketing and engineering departments. Output just the absolute difference in salaries.

Sample data

db_employee

| id     | first_name | last_name | salary | department_id |
|--------|------------|-----------|--------|----------------|
| 10301  | Keith      | Morgan    | 27056  | 2              |
| 10302  | Tyler      | Booth     | 32199  | 3              |
| 10303  | Clifford   | Nguyen    | 32165  | 2              |
| 10304  | Mary       | Jones     | 49488  | 3              |
| 10305  | Melissa    | Lucero    | 27024  | 3              |
| 10306  | Ashley     | Li        | 28516  | 4              |
| 10307  | Joseph     | Solomon   | 19945  | 1              |
| 10308  | Anthony    | Sanchez   | 43801  | 3              |
| 10309  | Katherine  | Huffman   | 12984  | 4              |
| 10310  | Dawn       | Foley     | 28902  | 2              |
| 10311  | Melissa    | Holmes    | 33575  | 1              |


db_dept

| id | department     |
|----|----------------|
| 1  | engineering    |
| 2  | human resource |
| 3  | operation      |
| 4  | marketing      |
| 5  | sales          |
| 6  | customer care  |


---

Answer:
# Import your libraries
import pandas as pd

# Start writing code
Max_salary=db_employee.groupby('department_id')['salary'].max().reset_index()
Department_max_salary=Max_salary.merge(db_dept,left_on='department_id',right_on='id')
S_Eng=(Department_max_salary[Department_max_salary['department']=='engineering']['salary']).values[0].astype(int)
S_Mkt=(Department_max_salary[Department_max_salary['department']=='marketing']['salary']).values[0].astype(int)
result=abs(S_Eng - S_Mkt)

### 🧮 Result

> **Absolute difference between the highest salaries in marketing and engineering:**  
> 🟩 **17289**
